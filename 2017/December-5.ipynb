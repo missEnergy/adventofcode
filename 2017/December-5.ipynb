{
 "cells": [
  {
   "cell_type": "markdown",
   "metadata": {},
   "source": [
    "--- Day 5: A Maze of Twisty Trampolines, All Alike ---\n",
    "\n",
    "An urgent interrupt arrives from the CPU: it's trapped in a maze of jump instructions, and it would like assistance from any programs with spare cycles to help find the exit.\n",
    "\n",
    "The message includes a list of the offsets for each jump. Jumps are relative: -1 moves to the previous instruction, and 2 skips the next one. Start at the first instruction in the list. The goal is to follow the jumps until one leads outside the list.\n",
    "\n",
    "In addition, these instructions are a little strange; after each jump, the offset of that instruction increases by 1. So, if you come across an offset of 3, you would move three instructions forward, but change it to a 4 for the next time it is encountered."
   ]
  },
  {
   "cell_type": "code",
   "execution_count": 21,
   "metadata": {},
   "outputs": [],
   "source": [
    "import csv\n",
    "\n",
    "def read_maze():\n",
    "    maze = []\n",
    "    with open(\"December-5-input.txt\") as f:\n",
    "        reader = csv.reader(f)\n",
    "        for row in reader:\n",
    "            maze.append(int(row[0]))\n",
    "    return maze"
   ]
  },
  {
   "cell_type": "code",
   "execution_count": 24,
   "metadata": {},
   "outputs": [
    {
     "name": "stdout",
     "output_type": "stream",
     "text": [
      "396086\n"
     ]
    }
   ],
   "source": [
    "current = 0\n",
    "steps = 0\n",
    "\n",
    "maze = read_maze()\n",
    "\n",
    "while steps >= 0:\n",
    "    try:\n",
    "        last = current\n",
    "        current += maze[current]\n",
    "        maze[last] += 1\n",
    "        steps += 1\n",
    "    except IndexError:\n",
    "        print(steps)\n",
    "        break"
   ]
  },
  {
   "cell_type": "markdown",
   "metadata": {},
   "source": [
    "--- Part Two ---\n",
    "\n",
    "Now, the jumps are even stranger: after each jump, if the offset was three or more, instead decrease it by 1. Otherwise, increase it by 1 as before.\n",
    "\n",
    "Using this rule with the above example, the process now takes 10 steps, and the offset values after finding the exit are left as 2 3 2 3 -1.\n",
    "\n",
    "How many steps does it now take to reach the exit?"
   ]
  },
  {
   "cell_type": "code",
   "execution_count": 23,
   "metadata": {},
   "outputs": [
    {
     "name": "stdout",
     "output_type": "stream",
     "text": [
      "28675390\n"
     ]
    }
   ],
   "source": [
    "current = 0\n",
    "steps = 0\n",
    "\n",
    "maze = read_maze()\n",
    "\n",
    "while steps >= 0:\n",
    "    try:\n",
    "        last = current\n",
    "        current += maze[current]\n",
    "        if maze[last] < 3:\n",
    "            maze[last] += 1\n",
    "        else:\n",
    "            maze[last] += -1\n",
    "        steps += 1\n",
    "    except IndexError:\n",
    "        print(steps)\n",
    "        break"
   ]
  }
 ],
 "metadata": {
  "kernelspec": {
   "display_name": "Python 3",
   "language": "python",
   "name": "python3"
  },
  "language_info": {
   "codemirror_mode": {
    "name": "ipython",
    "version": 3
   },
   "file_extension": ".py",
   "mimetype": "text/x-python",
   "name": "python",
   "nbconvert_exporter": "python",
   "pygments_lexer": "ipython3",
   "version": "3.6.3"
  }
 },
 "nbformat": 4,
 "nbformat_minor": 2
}
