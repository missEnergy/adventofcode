{
 "cells": [
  {
   "cell_type": "code",
   "execution_count": 1,
   "metadata": {},
   "outputs": [
    {
     "data": {
      "text/plain": [
       "[['set', 'i', '31'],\n",
       " ['set', 'a', '1'],\n",
       " ['mul', 'p', '17'],\n",
       " ['jgz', 'p', 'p'],\n",
       " ['mul', 'a', '2'],\n",
       " ['add', 'i', '-1'],\n",
       " ['jgz', 'i', '-2'],\n",
       " ['add', 'a', '-1'],\n",
       " ['set', 'i', '127'],\n",
       " ['set', 'p', '826'],\n",
       " ['mul', 'p', '8505'],\n",
       " ['mod', 'p', 'a'],\n",
       " ['mul', 'p', '129749'],\n",
       " ['add', 'p', '12345'],\n",
       " ['mod', 'p', 'a'],\n",
       " ['set', 'b', 'p'],\n",
       " ['mod', 'b', '10000'],\n",
       " ['snd', 'b'],\n",
       " ['add', 'i', '-1'],\n",
       " ['jgz', 'i', '-9'],\n",
       " ['jgz', 'a', '3'],\n",
       " ['rcv', 'b'],\n",
       " ['jgz', 'b', '-1'],\n",
       " ['set', 'f', '0'],\n",
       " ['set', 'i', '126'],\n",
       " ['rcv', 'a'],\n",
       " ['rcv', 'b'],\n",
       " ['set', 'p', 'a'],\n",
       " ['mul', 'p', '-1'],\n",
       " ['add', 'p', 'b'],\n",
       " ['jgz', 'p', '4'],\n",
       " ['snd', 'a'],\n",
       " ['set', 'a', 'b'],\n",
       " ['jgz', '1', '3'],\n",
       " ['snd', 'b'],\n",
       " ['set', 'f', '1'],\n",
       " ['add', 'i', '-1'],\n",
       " ['jgz', 'i', '-11'],\n",
       " ['snd', 'a'],\n",
       " ['jgz', 'f', '-16'],\n",
       " ['jgz', 'a', '-19']]"
      ]
     },
     "execution_count": 1,
     "metadata": {},
     "output_type": "execute_result"
    }
   ],
   "source": [
    "with open(\"December-18-input.txt\") as f:\n",
    "    content = f.readlines()\n",
    "content = [x.strip() for x in content] \n",
    "\n",
    "commandos = []\n",
    "for row in content:\n",
    "    commandos.append(row.split(\" \"))\n",
    "commandos"
   ]
  },
  {
   "cell_type": "code",
   "execution_count": null,
   "metadata": {
    "collapsed": true
   },
   "outputs": [],
   "source": [
    "snd X plays a sound with a frequency equal to the value of X.\n",
    "set X Y sets register X to the value of Y.\n",
    "add X Y increases register X by the value of Y.\n",
    "mul X Y sets register X to the result of multiplying the value contained in register X by the value of Y.\n",
    "mod X Y sets register X to the remainder of dividing the value contained in register X by the value of Y (that is, it sets X to the result of X modulo Y).\n",
    "rcv X recovers the frequency of the last sound played, but only when the value of X is not zero. (If it is zero, the command does nothing.)\n",
    "jgz X Y jumps with an offset of the value of Y, but only if the value of X is greater than zero. (An offset of 2 skips the next instruction, an offset of -1 jumps to the previous instruction, and so on.)"
   ]
  },
  {
   "cell_type": "code",
   "execution_count": 3,
   "metadata": {},
   "outputs": [
    {
     "data": {
      "text/plain": [
       "7071"
      ]
     },
     "execution_count": 3,
     "metadata": {},
     "output_type": "execute_result"
    }
   ],
   "source": [
    "flag = True\n",
    "i = 0\n",
    "registers = {}\n",
    "last_freq = 0\n",
    "for x in commandos:\n",
    "    registers[x[1]] = 0\n",
    "    \n",
    "while flag:\n",
    "    com = commandos[i][0]\n",
    "    try:\n",
    "        X = int(commandos[i][1])\n",
    "    except:\n",
    "        X = registers[commandos[i][1]]\n",
    "    try:\n",
    "        Y = int(commandos[i][2])\n",
    "    except:\n",
    "        try:\n",
    "            Y = registers[commandos[i][2]]\n",
    "        except:\n",
    "            Y = 0\n",
    "        \n",
    "    if com == 'snd':\n",
    "        last_freq = X\n",
    "    elif com == 'set':\n",
    "        registers[commandos[i][1]] = Y\n",
    "    elif com == 'add':\n",
    "        registers[commandos[i][1]] += Y\n",
    "    elif com == 'mul':\n",
    "        registers[commandos[i][1]] *= Y\n",
    "    elif com == 'mod':\n",
    "        registers[commandos[i][1]] %= Y\n",
    "    elif com == 'rcv':\n",
    "        if X != 0:\n",
    "            break\n",
    "    elif com == 'jgz':\n",
    "        if X > 0:\n",
    "            i += Y - 1\n",
    "    else:\n",
    "        print(\"shit!\")\n",
    "        \n",
    "    i += 1\n",
    "\n",
    "last_freq\n",
    "    \n",
    "    \n",
    "    "
   ]
  },
  {
   "cell_type": "code",
   "execution_count": null,
   "metadata": {
    "collapsed": true
   },
   "outputs": [],
   "source": []
  }
 ],
 "metadata": {
  "kernelspec": {
   "display_name": "Python 3",
   "language": "python",
   "name": "python3"
  },
  "language_info": {
   "codemirror_mode": {
    "name": "ipython",
    "version": 3
   },
   "file_extension": ".py",
   "mimetype": "text/x-python",
   "name": "python",
   "nbconvert_exporter": "python",
   "pygments_lexer": "ipython3",
   "version": "3.6.3"
  }
 },
 "nbformat": 4,
 "nbformat_minor": 2
}
