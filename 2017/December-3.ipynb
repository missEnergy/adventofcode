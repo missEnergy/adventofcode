{
 "cells": [
  {
   "cell_type": "markdown",
   "metadata": {},
   "source": [
    "# spiral square of memory allocation"
   ]
  },
  {
   "cell_type": "code",
   "execution_count": 1,
   "metadata": {},
   "outputs": [
    {
     "data": {
      "text/plain": [
       "371.0"
      ]
     },
     "execution_count": 1,
     "metadata": {},
     "output_type": "execute_result"
    }
   ],
   "source": [
    "def steps_to_1(inp):\n",
    "    addition = 0\n",
    "    total = 1\n",
    "    ring = 0\n",
    "    while total <= inp:\n",
    "        ring += 1\n",
    "        addition += 8\n",
    "        total += addition\n",
    "\n",
    "    position = abs((inp-(total-addition))%(addition/4)-(ring))\n",
    "    steps = ring + position\n",
    "    return steps\n",
    "\n",
    "assert steps_to_1(14) == 3\n",
    "assert steps_to_1(17) == 4\n",
    "assert steps_to_1(5) == 2\n",
    "assert steps_to_1(6) == 1\n",
    "assert steps_to_1(29) == 4\n",
    "assert steps_to_1(30) == 5\n",
    "\n",
    "steps_to_1(277678)"
   ]
  },
  {
   "cell_type": "code",
   "execution_count": 7,
   "metadata": {
    "collapsed": true
   },
   "outputs": [],
   "source": [
    "def ring_maker(grid, ring):\n",
    "    x,y = (center+ring),(center-ring)\n",
    "    for i in range(ring*2):\n",
    "        y += 1\n",
    "        grid[x][y] = calc_value(grid, x, y)\n",
    "    for i in range(ring*2):\n",
    "        x -= 1\n",
    "        grid[x][y] = calc_value(grid, x, y)\n",
    "    for i in range(ring*2):\n",
    "        y -= 1\n",
    "        grid[x][y] = calc_value(grid, x, y)\n",
    "    for i in range(ring*2):\n",
    "        x += 1\n",
    "        grid[x][y] = calc_value(grid, x, y)\n",
    "    return (grid, grid[x][y])\n",
    "        \n",
    "def calc_value(grid, x, y):\n",
    "    value = grid[x+1][y] + grid[x+1][y+1] + grid[x][y+1] + grid[x-1][y+1] + grid[x-1][y] + grid[x-1][y-1] + grid[x][y-1] + grid[x+1][y-1]\n",
    "    print(\"x={}, y={}, value={}\".format(x,y,value))\n",
    "    return value"
   ]
  },
  {
   "cell_type": "code",
   "execution_count": 8,
   "metadata": {},
   "outputs": [
    {
     "name": "stdout",
     "output_type": "stream",
     "text": [
      "x=201, y=200, value=1\n",
      "x=201, y=201, value=2\n",
      "x=200, y=201, value=4\n",
      "x=199, y=201, value=5\n",
      "x=199, y=200, value=10\n",
      "x=199, y=199, value=11\n",
      "x=200, y=199, value=23\n",
      "x=201, y=199, value=25\n",
      "x=202, y=199, value=26\n",
      "x=202, y=200, value=54\n",
      "x=202, y=201, value=57\n",
      "x=202, y=202, value=59\n",
      "x=201, y=202, value=122\n",
      "x=200, y=202, value=133\n",
      "x=199, y=202, value=142\n",
      "x=198, y=202, value=147\n",
      "x=198, y=201, value=304\n",
      "x=198, y=200, value=330\n",
      "x=198, y=199, value=351\n",
      "x=198, y=198, value=362\n",
      "x=199, y=198, value=747\n",
      "x=200, y=198, value=806\n",
      "x=201, y=198, value=880\n",
      "x=202, y=198, value=931\n",
      "x=203, y=198, value=957\n",
      "x=203, y=199, value=1968\n",
      "x=203, y=200, value=2105\n",
      "x=203, y=201, value=2275\n",
      "x=203, y=202, value=2391\n",
      "x=203, y=203, value=2450\n",
      "x=202, y=203, value=5022\n",
      "x=201, y=203, value=5336\n",
      "x=200, y=203, value=5733\n",
      "x=199, y=203, value=6155\n",
      "x=198, y=203, value=6444\n",
      "x=197, y=203, value=6591\n",
      "x=197, y=202, value=13486\n",
      "x=197, y=201, value=14267\n",
      "x=197, y=200, value=15252\n",
      "x=197, y=199, value=16295\n",
      "x=197, y=198, value=17008\n",
      "x=197, y=197, value=17370\n",
      "x=198, y=197, value=35487\n",
      "x=199, y=197, value=37402\n",
      "x=200, y=197, value=39835\n",
      "x=201, y=197, value=42452\n",
      "x=202, y=197, value=45220\n",
      "x=203, y=197, value=47108\n",
      "x=204, y=197, value=48065\n",
      "x=204, y=198, value=98098\n",
      "x=204, y=199, value=103128\n",
      "x=204, y=200, value=109476\n",
      "x=204, y=201, value=116247\n",
      "x=204, y=202, value=123363\n",
      "x=204, y=203, value=128204\n",
      "x=204, y=204, value=130654\n",
      "x=203, y=204, value=266330\n",
      "x=202, y=204, value=279138\n",
      "x=201, y=204, value=295229\n",
      "x=200, y=204, value=312453\n",
      "x=199, y=204, value=330785\n",
      "x=198, y=204, value=349975\n",
      "x=197, y=204, value=363010\n",
      "x=196, y=204, value=369601\n",
      "x=196, y=203, value=752688\n",
      "x=196, y=202, value=787032\n",
      "x=196, y=201, value=830037\n",
      "x=196, y=200, value=875851\n",
      "x=196, y=199, value=924406\n",
      "x=196, y=198, value=975079\n",
      "x=196, y=197, value=1009457\n",
      "x=196, y=196, value=1026827\n",
      "x=197, y=196, value=2089141\n",
      "x=198, y=196, value=2179400\n",
      "x=199, y=196, value=2292124\n",
      "x=200, y=196, value=2411813\n",
      "x=201, y=196, value=2539320\n",
      "x=202, y=196, value=2674100\n",
      "x=203, y=196, value=2814493\n",
      "x=204, y=196, value=2909666\n"
     ]
    }
   ],
   "source": [
    "n=401\n",
    "center = 200\n",
    "\n",
    "zero_grid = []\n",
    "for i in range(n):\n",
    "    zero_grid.append([0] * n)\n",
    "zero_grid[center][center]=1    \n",
    "last_value = 1\n",
    "ronde = 0\n",
    "while last_value < 277678:\n",
    "    ronde += 1\n",
    "    zero_grid, last_value = ring_maker(zero_grid, ronde)\n",
    "    "
   ]
  },
  {
   "cell_type": "code",
   "execution_count": null,
   "metadata": {
    "collapsed": true
   },
   "outputs": [],
   "source": []
  }
 ],
 "metadata": {
  "kernelspec": {
   "display_name": "Python 3",
   "language": "python",
   "name": "python3"
  },
  "language_info": {
   "codemirror_mode": {
    "name": "ipython",
    "version": 3
   },
   "file_extension": ".py",
   "mimetype": "text/x-python",
   "name": "python",
   "nbconvert_exporter": "python",
   "pygments_lexer": "ipython3",
   "version": "3.6.3"
  }
 },
 "nbformat": 4,
 "nbformat_minor": 2
}
