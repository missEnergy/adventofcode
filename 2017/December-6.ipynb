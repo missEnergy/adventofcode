{
 "cells": [
  {
   "cell_type": "code",
   "execution_count": 19,
   "metadata": {},
   "outputs": [
    {
     "name": "stdout",
     "output_type": "stream",
     "text": [
      "2392\n",
      "6681\n"
     ]
    }
   ],
   "source": [
    "input = [4,1,15,12,0,9,9,5,5,8,7,3,14,5,12,3]\n",
    "\n",
    "redistributions = []\n",
    "redis = list(input)\n",
    "count = 0\n",
    "\n",
    "while True:\n",
    "    count += 1\n",
    "    redistributions.append(list(redis))\n",
    "    max_num = max(redis)\n",
    "    max_idx = redis.index(max(redis))\n",
    "    \n",
    "    redis[max_idx] = 0\n",
    "    while max_num > 0:\n",
    "        if max_idx == len(redis) - 1:\n",
    "            max_idx = 0\n",
    "        else:\n",
    "            max_idx += 1\n",
    "        redis[max_idx] += 1\n",
    "        max_num -= 1\n",
    "    if redis in redistributions:\n",
    "        print(len(redistributions) - redistributions.index(redis))\n",
    "        break;\n",
    "        \n",
    "print(count)"
   ]
  },
  {
   "cell_type": "code",
   "execution_count": null,
   "metadata": {
    "collapsed": true
   },
   "outputs": [],
   "source": []
  }
 ],
 "metadata": {
  "kernelspec": {
   "display_name": "Python 3",
   "language": "python",
   "name": "python3"
  },
  "language_info": {
   "codemirror_mode": {
    "name": "ipython",
    "version": 3
   },
   "file_extension": ".py",
   "mimetype": "text/x-python",
   "name": "python",
   "nbconvert_exporter": "python",
   "pygments_lexer": "ipython3",
   "version": "3.6.3"
  }
 },
 "nbformat": 4,
 "nbformat_minor": 2
}
