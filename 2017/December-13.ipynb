{
 "cells": [
  {
   "cell_type": "code",
   "execution_count": 7,
   "metadata": {},
   "outputs": [
    {
     "data": {
      "text/plain": [
       "[[0, 3],\n",
       " [1, 2],\n",
       " [2, 4],\n",
       " [4, 6],\n",
       " [6, 5],\n",
       " [8, 6],\n",
       " [10, 6],\n",
       " [12, 4],\n",
       " [14, 8],\n",
       " [16, 8],\n",
       " [18, 9],\n",
       " [20, 8],\n",
       " [22, 6],\n",
       " [24, 14],\n",
       " [26, 12],\n",
       " [28, 10],\n",
       " [30, 12],\n",
       " [32, 8],\n",
       " [34, 10],\n",
       " [36, 8],\n",
       " [38, 8],\n",
       " [40, 12],\n",
       " [42, 12],\n",
       " [44, 12],\n",
       " [46, 12],\n",
       " [48, 14],\n",
       " [52, 14],\n",
       " [54, 12],\n",
       " [56, 12],\n",
       " [58, 12],\n",
       " [60, 12],\n",
       " [62, 14],\n",
       " [64, 14],\n",
       " [66, 14],\n",
       " [68, 14],\n",
       " [70, 14],\n",
       " [72, 14],\n",
       " [80, 18],\n",
       " [82, 14],\n",
       " [84, 20],\n",
       " [86, 14],\n",
       " [90, 17],\n",
       " [96, 20],\n",
       " [98, 24]]"
      ]
     },
     "execution_count": 7,
     "metadata": {},
     "output_type": "execute_result"
    }
   ],
   "source": [
    "with open(\"December-13-input.txt\") as f:\n",
    "    content = f.readlines()\n",
    "content = [x.strip() for x in content] \n",
    "\n",
    "scanners = []\n",
    "for row in content:\n",
    "    scanners.append([int(x) for x in row.split(\": \")])\n",
    "scanners"
   ]
  },
  {
   "cell_type": "code",
   "execution_count": 2,
   "metadata": {},
   "outputs": [
    {
     "data": {
      "text/plain": [
       "24"
      ]
     },
     "execution_count": 2,
     "metadata": {},
     "output_type": "execute_result"
    }
   ],
   "source": [
    "# exercise 1\n",
    "def scanner_in_top(depth, rnge):\n",
    "    if (depth+1)%(rnge*2 - 2) == 1:\n",
    "        return True\n",
    "    else: \n",
    "        return False\n",
    "    \n",
    "severity = 0\n",
    "for x in scanners:\n",
    "    if scanner_in_top(x[0], x[1]):\n",
    "        severity += x[0]*x[1]\n",
    "severity"
   ]
  },
  {
   "cell_type": "code",
   "execution_count": 8,
   "metadata": {},
   "outputs": [
    {
     "data": {
      "text/plain": [
       "3937334"
      ]
     },
     "execution_count": 8,
     "metadata": {},
     "output_type": "execute_result"
    }
   ],
   "source": [
    "# exercise 2\n",
    "def scanner_in_top_for_starttime(depth, rnge, starttime):\n",
    "    if (depth+1+starttime)%(rnge*2 - 2) == 1:\n",
    "        return True\n",
    "    else: \n",
    "        return False\n",
    "    \n",
    "starttime = 0\n",
    "starttime_old = -1\n",
    "while starttime > starttime_old:\n",
    "    starttime_old = starttime\n",
    "    for x in scanners:\n",
    "        if scanner_in_top_for_starttime(x[0], x[1], starttime):\n",
    "            starttime += 1\n",
    "            break;\n",
    "    \n",
    "starttime"
   ]
  },
  {
   "cell_type": "code",
   "execution_count": null,
   "metadata": {
    "collapsed": true
   },
   "outputs": [],
   "source": []
  }
 ],
 "metadata": {
  "kernelspec": {
   "display_name": "Python 3",
   "language": "python",
   "name": "python3"
  },
  "language_info": {
   "codemirror_mode": {
    "name": "ipython",
    "version": 3
   },
   "file_extension": ".py",
   "mimetype": "text/x-python",
   "name": "python",
   "nbconvert_exporter": "python",
   "pygments_lexer": "ipython3",
   "version": "3.6.3"
  }
 },
 "nbformat": 4,
 "nbformat_minor": 2
}
